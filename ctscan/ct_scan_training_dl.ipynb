{
 "cells": [
  {
   "cell_type": "markdown",
   "metadata": {},
   "source": [
    "### Import Libraries"
   ]
  },
  {
   "cell_type": "code",
   "execution_count": 2,
   "metadata": {},
   "outputs": [],
   "source": [
    "import numpy as np\n",
    "import os\n",
    "from random import shuffle\n",
    "import random\n",
    "from tqdm import tqdm\n",
    "import pickle\n",
    "\n",
    "# OpenCV\n",
    "import cv2\n",
    "\n",
    "# Pandas\n",
    "import pandas as pd\n",
    "\n",
    "# Tensorflow\n",
    "from tensorflow.keras.applications.densenet import DenseNet169\n",
    "from tensorflow.keras.applications.vgg16 import VGG16\n",
    "from tensorflow.keras.applications.resnet import ResNet101\n",
    "from tensorflow.keras.preprocessing.image import ImageDataGenerator"
   ]
  },
  {
   "cell_type": "markdown",
   "metadata": {},
   "source": [
    "### Read txt file which includes all file list"
   ]
  },
  {
   "cell_type": "code",
   "execution_count": 3,
   "metadata": {},
   "outputs": [
    {
     "name": "stdout",
     "output_type": "stream",
     "text": [
      "                              filename  label  xmin  ymin  xmax  ymax\n",
      "0                 NCP_96_1328_0032.png      2     9    94   512   405\n",
      "1                 NCP_96_1328_0035.png      2    10   106   512   405\n",
      "2                 NCP_96_1328_0036.png      2    10   105   512   406\n",
      "3                 NCP_96_1328_0037.png      2    11   104   512   406\n",
      "4                 NCP_96_1328_0038.png      2    11   103   512   406\n",
      "...                                ...    ...   ...   ...   ...   ...\n",
      "425019  COVIDCTMD-normal075-IM0155.png      0    18    56   496   429\n",
      "425020  COVIDCTMD-normal075-IM0156.png      0    18    56   496   429\n",
      "425021  COVIDCTMD-normal075-IM0157.png      0    18    56   496   429\n",
      "425022  COVIDCTMD-normal075-IM0158.png      0    19    56   495   429\n",
      "425023  COVIDCTMD-normal075-IM0159.png      0    19    56   495   429\n",
      "\n",
      "[425024 rows x 6 columns]\n"
     ]
    }
   ],
   "source": [
    "data = pd.read_csv(\"../../dataset/ctscan/all_image_paths.txt\", sep=\" \", header=None)\n",
    "data.columns = ['filename', 'label', 'xmin','ymin','xmax','ymax']\n",
    "print(data)"
   ]
  },
  {
   "cell_type": "markdown",
   "metadata": {},
   "source": [
    "### Collect id of different class"
   ]
  },
  {
   "cell_type": "code",
   "execution_count": 20,
   "metadata": {},
   "outputs": [],
   "source": [
    "nor_id, pne_id, cov_id = [], [], [] # Normal, Pneumonia and Covid Ids List\n",
    "id_count = 0\n",
    "\n",
    "for i in range(len(data)):\n",
    "  # Normal\n",
    "  if data[\"label\"][i] == 0:\n",
    "    nor_id.append(i)\n",
    "  # Pneumonia\n",
    "  elif data[\"label\"][i] == 1:\n",
    "    pne_id.append(i)\n",
    "  # Covid\n",
    "  else:\n",
    "    cov_id.append(i)"
   ]
  },
  {
   "cell_type": "markdown",
   "metadata": {},
   "source": [
    "### Choose random files and make balanced dataset"
   ]
  },
  {
   "cell_type": "code",
   "execution_count": 21,
   "metadata": {},
   "outputs": [],
   "source": [
    "random.seed(42)\n",
    "shuffle(nor_id)\n",
    "shuffle(pne_id)\n",
    "shuffle(cov_id)\n",
    "\n",
    "cov_select = cov_id[:5000] # Covid\n",
    "nor_select = nor_id[:2500] # Normal\n",
    "pne_select = pne_id[:2500] # Pneumonia"
   ]
  },
  {
   "cell_type": "markdown",
   "metadata": {},
   "source": [
    "### Define Image Size"
   ]
  },
  {
   "cell_type": "code",
   "execution_count": null,
   "metadata": {},
   "outputs": [],
   "source": [
    "img_size = 224"
   ]
  },
  {
   "cell_type": "markdown",
   "metadata": {},
   "source": [
    "### Define function to compose dataset"
   ]
  },
  {
   "cell_type": "code",
   "execution_count": 22,
   "metadata": {},
   "outputs": [],
   "source": [
    "def get_dataset(files, cov_select, nor_select, pne_select):\n",
    "  count = 0 # Count to record the ids of files. Each file has a unique ID.\n",
    "  dataset = []  # List to hold all the dataset. Each element is a dictionary\n",
    "  for i in tqdm(cov_select + nor_select + pne_select):  # Loop over each file location\n",
    "    data_dict = {}\n",
    "    data_dict[\"id\"] = count\n",
    "    data_dict[\"filepath\"] = os.path.join(\"../dataset/ct_scan/3A_images/\", files[\"filename\"][i])\n",
    "    img = cv2.imread(os.path.join(\"../dataset/ct_scan/3A_images/\", files[\"filename\"][i]))\n",
    "\n",
    "    x_min, y_min, x_max, y_max = files[\"xmin\"][i], files[\"ymin\"][i], files[\"xmax\"][i], files[\"ymax\"][i]\n",
    "    cropped_img = img[y_min:y_max, x_min:x_max, :]\n",
    "\n",
    "    img_resized = cv2.resize(cropped_img, (img_size, img_size))\n",
    "    data_dict[\"image\"] = img_resized\n",
    "\n",
    "    if files[\"label\"][i] == 0 or files[\"label\"][i] == 1:\n",
    "      data_dict[\"label\"] = 0 # Non-Covid\n",
    "    else:\n",
    "      data_dict[\"label\"] = 1 # Covid\n",
    "    count += 1\n",
    "    dataset.append(data_dict)\n",
    "  return dataset"
   ]
  },
  {
   "cell_type": "code",
   "execution_count": 24,
   "metadata": {},
   "outputs": [],
   "source": [
    "dataset = get_dataset(data, cov_select, nor_select, pne_select)"
   ]
  },
  {
   "cell_type": "markdown",
   "metadata": {},
   "source": [
    "### Extract image only from the dataset to send to DNN"
   ]
  },
  {
   "cell_type": "code",
   "execution_count": 10,
   "metadata": {},
   "outputs": [],
   "source": [
    "image_only = []\n",
    "for data in dataset:\n",
    "    image_only.append(data[\"image\"])\n",
    "\n",
    "image_only = np.array(image_only)"
   ]
  },
  {
   "cell_type": "markdown",
   "metadata": {},
   "source": [
    "### Define batch size"
   ]
  },
  {
   "cell_type": "code",
   "execution_count": null,
   "metadata": {},
   "outputs": [],
   "source": [
    "batch_size = 2000"
   ]
  },
  {
   "cell_type": "markdown",
   "metadata": {},
   "source": [
    "### Generate batches of images to feed into DNN"
   ]
  },
  {
   "cell_type": "code",
   "execution_count": 11,
   "metadata": {},
   "outputs": [],
   "source": [
    "img_datagen = ImageDataGenerator()\n",
    "batch_img = img_datagen.flow(image_only, batch_size=batch_size, shuffle=False)"
   ]
  },
  {
   "cell_type": "markdown",
   "metadata": {},
   "source": [
    "### Define a function to select a model from three (VGGNET16, ResNet101 and DenseNet169)"
   ]
  },
  {
   "cell_type": "code",
   "execution_count": 12,
   "metadata": {},
   "outputs": [],
   "source": [
    "def all_models(img_size, model_sel):\n",
    "  if model_sel == 1:\n",
    "    vgg_pre_t = VGG16(input_shape=(img_size, img_size, 3), include_top=False, weights ='imagenet')\n",
    "    return vgg_pre_t, 25088\n",
    "\n",
    "  elif model_sel == 2:\n",
    "    resnet_pre_t= ResNet101(input_shape=(img_size, img_size, 3), include_top=False, weights='imagenet')\n",
    "    return resnet_pre_t, 100352\n",
    "\n",
    "  elif model_sel == 3:\n",
    "    densenet169_pre_t = DenseNet169(input_shape=(img_size, img_size, 3), include_top=False, weights ='imagenet' )\n",
    "    return densenet169_pre_t, 81536"
   ]
  },
  {
   "cell_type": "markdown",
   "metadata": {},
   "source": [
    "### Select Model"
   ]
  },
  {
   "cell_type": "code",
   "execution_count": null,
   "metadata": {},
   "outputs": [],
   "source": [
    "select_model = 2 #int(input(\"Enter the number for: \\n 1) VGGNET16 \\n 2) Resnet101  \\n 3) Densenet169 \"))"
   ]
  },
  {
   "cell_type": "markdown",
   "metadata": {},
   "source": [
    "### Extract image feature from the selected DNN model"
   ]
  },
  {
   "cell_type": "code",
   "execution_count": null,
   "metadata": {},
   "outputs": [],
   "source": [
    "all_feat = []\n",
    "model, feature_size = all_models(img_size, select_model)\n",
    "for data in tqdm(range(len(batch_img))):\n",
    "  try:\n",
    "    features = model.predict(batch_img[data]).flatten().reshape(batch_size, feature_size)\n",
    "  except:\n",
    "    img_len = len(batch_img[data])\n",
    "    features = model.predict(batch_img[data]).flatten().reshape(img_len, feature_size)\n",
    "  all_feat.extend(features)"
   ]
  },
  {
   "cell_type": "markdown",
   "metadata": {},
   "source": [
    "### Replace image value by image features"
   ]
  },
  {
   "cell_type": "code",
   "execution_count": 14,
   "metadata": {},
   "outputs": [],
   "source": [
    "for i in range(len(dataset)):\n",
    "  ft_dataset[i]['image'] = all_feat[i]\n",
    "\n",
    "# print sample dataset covid and non-covid\n",
    "print(ft_dataset[0])\n",
    "print(ft_dataset[5001])"
   ]
  },
  {
   "cell_type": "markdown",
   "metadata": {},
   "source": [
    "### Save extracted feature in pickle file for future use"
   ]
  },
  {
   "cell_type": "code",
   "execution_count": null,
   "metadata": {},
   "outputs": [],
   "source": [
    "filepath = \"../../pickle_files/al/ct_scan/\"\n",
    "if select_model == 1:\n",
    "  filename = \"ct_scan_vggnet16.pickle\"\n",
    "elif select_model == 2:\n",
    "  filename = \"ct_scan_resnet101.pickle\"\n",
    "elif select_model == 3:\n",
    "  filename = \"ct_scan_densenet169.pickle\"\n",
    "\n",
    "file = filepath + filename\n",
    "with open(file, 'wb') as handle:\n",
    "  pickle.dump(ft_dataset, handle, protocol=pickle.HIGHEST_PROTOCOL)"
   ]
  }
 ],
 "metadata": {
  "kernelspec": {
   "display_name": "Python 3 (ipykernel)",
   "language": "python",
   "name": "python3"
  },
  "language_info": {
   "codemirror_mode": {
    "name": "ipython",
    "version": 3
   },
   "file_extension": ".py",
   "mimetype": "text/x-python",
   "name": "python",
   "nbconvert_exporter": "python",
   "pygments_lexer": "ipython3",
   "version": "3.9.0"
  },
  "vscode": {
   "interpreter": {
    "hash": "4bd624a0593993fe43ac4046b27b898fb2ef75c21c08f81e89e64ea0f51df676"
   }
  }
 },
 "nbformat": 4,
 "nbformat_minor": 4
}
